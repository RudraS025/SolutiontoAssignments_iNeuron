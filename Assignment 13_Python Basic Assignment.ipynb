{
 "cells": [
  {
   "cell_type": "markdown",
   "id": "70f151ff",
   "metadata": {},
   "source": [
    "1. What advantages do Excel spreadsheets have over CSV spreadsheets?\n",
    "\n",
    "Answer\n",
    "\n",
    "Excel is more superior when compared with the CSV file format; thus, CSV consumes less amount of file size when the user is importing data; it is a much faster format compared to excel. CSV does not manipulate data and stores it as-is. Excel also allows the user the add-in feature."
   ]
  },
  {
   "cell_type": "markdown",
   "id": "b5e23ee3",
   "metadata": {},
   "source": [
    "2.What do you pass to csv.reader() and csv.writer() to create reader and writer objects?\n",
    "\n",
    "Answer"
   ]
  },
  {
   "cell_type": "code",
   "execution_count": 1,
   "id": "2dfbdef2",
   "metadata": {},
   "outputs": [],
   "source": [
    "# Reader Object\n",
    "import csv\n",
    "# exampleFile = open('example.csv')\n",
    "# exampleReader = csv.reader(exampleFile)\n",
    "# exampleData = list(exampleReader)\n",
    "# exampleData"
   ]
  },
  {
   "cell_type": "code",
   "execution_count": 2,
   "id": "5c002fa5",
   "metadata": {},
   "outputs": [],
   "source": [
    "# Writer Object\n",
    "import csv\n",
    "# outputFile = open('output.csv', 'w', newline='')\n",
    "# outputWriter = csv.writer(outputFile)\n",
    "# outputWriter.writerow(['spam', 'eggs', 'bacon', 'ham'])\n",
    "# outputWriter.writerow(['Hello, world!', 'eggs', 'bacon', 'ham'])\n",
    "# outputWriter.writerow([1, 2, 3.141592, 4])\n",
    "# outputFile.close()"
   ]
  },
  {
   "cell_type": "markdown",
   "id": "e4949440",
   "metadata": {},
   "source": [
    "3. What modes do File objects for reader and writer objects need to be opened in?\n",
    "\n",
    "Answer\n",
    "\n",
    "Giving second argument to the open() function is optional which is mode. We can specify the mode while opening a file .i.e. whether we want to read ‘r’, write ‘w’ or append ‘a’ to the file. We can also specify if we want to open the file in text mode or binary mode."
   ]
  },
  {
   "cell_type": "code",
   "execution_count": 3,
   "id": "a22c08c4",
   "metadata": {},
   "outputs": [],
   "source": [
    "# f = open(\"pytube1.py\") #equivalent to 'r' or 'rt'\n",
    "# f = open(\"pytube1.py\", \"w\")# write in text mode\n",
    "# f = open(\"color3.jpg\", \"r+b\")# read and write in binary mode"
   ]
  },
  {
   "cell_type": "markdown",
   "id": "9fa0ccea",
   "metadata": {},
   "source": [
    "4. What method takes a list argument and writes it to a CSV file?\n",
    "\n",
    "Answer\n",
    "\n",
    "writerows()"
   ]
  },
  {
   "cell_type": "code",
   "execution_count": 5,
   "id": "dffb315f",
   "metadata": {},
   "outputs": [],
   "source": [
    "import csv\n",
    "persons=[('Lata',22,45),('Anil',21,56),('John',20,60)]\n",
    "csvfile=open('persons.csv','w', newline='')\n",
    "obj=csv.writer(csvfile)\n",
    "for person in persons:\n",
    "    obj.writerow(person)\n",
    "csvfile.close()"
   ]
  },
  {
   "cell_type": "markdown",
   "id": "451028e0",
   "metadata": {},
   "source": [
    "5. What do the keyword arguments delimiter and line terminator do?\n",
    "\n",
    "Answer\n",
    "\n",
    "The delimiter is the character that appears between cells on a row. By default, the delimiter for a CSV file is a comma. The line terminator is the character that comes at the end of a row. By default, the line terminator is a newline."
   ]
  },
  {
   "cell_type": "code",
   "execution_count": 6,
   "id": "d91ffea5",
   "metadata": {},
   "outputs": [],
   "source": [
    "import csv\n",
    "# csvFile = open('example.tsv', 'w', newline='')\n",
    "# csvWriter = csv.writer(csvFile, delimiter='\\t', lineterminator='\\n\\n')\n",
    "# csvWriter.writerow(['apples', 'oranges', 'grapes'])\n",
    "# csvWriter.writerow(['eggs', 'bacon', 'ham'])\n",
    "# csvWriter.writerow(['spam', 'spam', 'spam', 'spam', 'spam', 'spam'])\n",
    "# csvFile.close()"
   ]
  },
  {
   "cell_type": "markdown",
   "id": "577eacd7",
   "metadata": {},
   "source": [
    "6. What function takes a string of JSON data and returns a Python data structure?\n",
    "\n",
    "Answer\n",
    "\n",
    "json.loads() method return Python data structure of JSON string or data"
   ]
  },
  {
   "cell_type": "markdown",
   "id": "970cc0fc",
   "metadata": {},
   "source": [
    "7. What function takes a Python data structure and returns a string of JSON data?\n",
    "\n",
    "Answer\n",
    "\n",
    "json.loads()"
   ]
  }
 ],
 "metadata": {
  "kernelspec": {
   "display_name": "Python 3 (ipykernel)",
   "language": "python",
   "name": "python3"
  },
  "language_info": {
   "codemirror_mode": {
    "name": "ipython",
    "version": 3
   },
   "file_extension": ".py",
   "mimetype": "text/x-python",
   "name": "python",
   "nbconvert_exporter": "python",
   "pygments_lexer": "ipython3",
   "version": "3.9.7"
  }
 },
 "nbformat": 4,
 "nbformat_minor": 5
}
