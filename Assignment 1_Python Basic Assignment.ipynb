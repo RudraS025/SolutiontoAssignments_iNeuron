{
 "cells": [
  {
   "cell_type": "raw",
   "id": "ff3ab61d",
   "metadata": {},
   "source": [
    "1. In the below elements which of them are values or an expression? eg:- values can be integer or string and expressions will be mathematical operators.\n",
    "* \n",
    "'hello'\n",
    "-87.8\n",
    "- \n",
    "/ \n",
    "+\t\n",
    "6 "
   ]
  },
  {
   "cell_type": "raw",
   "id": "9966eda4",
   "metadata": {},
   "source": [
    "* = Expression\n",
    "\n",
    "'hello' = value\n",
    "\n",
    "-87.8 = value\n",
    "\n",
    "- = Expression\n",
    "\n",
    "/ = Expression\n",
    "\n",
    "+ = Expression\n",
    "\n",
    "6 = value"
   ]
  },
  {
   "cell_type": "raw",
   "id": "ea047403",
   "metadata": {},
   "source": [
    "2. What is the difference between string and variable?\n",
    "\n",
    "String - A string can be defined as a value which represents text e.g. \"rush\", \"wish\" etc. \n",
    "\n",
    "Variable - A variable is any characteristics, number, or quantity that can be measured or counted. A variable may also be called a data item. Age, sex, business income and expenses, country of birth, capital expenditure, class grades, eye colour and vehicle type are examples of variables."
   ]
  },
  {
   "cell_type": "raw",
   "id": "44ecaf1e",
   "metadata": {},
   "source": [
    "3. Describe three different data types.\n",
    "Integer\n",
    "Float\n",
    "String\n",
    "List\n",
    "Tuple\n",
    "Dictionary"
   ]
  },
  {
   "cell_type": "raw",
   "id": "e2188d02",
   "metadata": {},
   "source": [
    "4. What is an expression made up of? What do all expressions do?\n",
    "An expression is an instruction that combines values and operators and always evaluates down to a single value. For example, this is an expression: >>> 2 + 2. The 2s are integer values and the + is the mathematical operator. This expression evaluates down to the single integer value 4."
   ]
  },
  {
   "cell_type": "raw",
   "id": "3db5516d",
   "metadata": {},
   "source": [
    "5. This assignment statements, like spam = 10. What is the difference between an expression and a statement?\n",
    "\n",
    "Expression is a combination of values and functions that are combined and interpreted by the compiler to create a new value \n",
    "\n",
    "Statement is just a standalone unit of execution and doesn't return anything."
   ]
  },
  {
   "cell_type": "raw",
   "id": "df129fcc",
   "metadata": {},
   "source": [
    "6. After running the following code, what does the variable bacon contain?\n",
    "bacon = 22\n",
    "bacon + 1"
   ]
  },
  {
   "cell_type": "code",
   "execution_count": 1,
   "id": "7918c1d2",
   "metadata": {},
   "outputs": [
    {
     "data": {
      "text/plain": [
       "23"
      ]
     },
     "execution_count": 1,
     "metadata": {},
     "output_type": "execute_result"
    }
   ],
   "source": [
    "bacon = 22\n",
    "bacon + 1"
   ]
  },
  {
   "cell_type": "raw",
   "id": "4aad2efe",
   "metadata": {},
   "source": [
    "7. What should the values of the following two terms be?\n",
    "'spam' + 'spamspam'\n",
    "'spam' * 3"
   ]
  },
  {
   "cell_type": "code",
   "execution_count": 4,
   "id": "5003e986",
   "metadata": {},
   "outputs": [
    {
     "data": {
      "text/plain": [
       "'spamspamspam'"
      ]
     },
     "execution_count": 4,
     "metadata": {},
     "output_type": "execute_result"
    }
   ],
   "source": [
    "'spam' + 'spamspam'"
   ]
  },
  {
   "cell_type": "code",
   "execution_count": 3,
   "id": "4b8abe83",
   "metadata": {},
   "outputs": [
    {
     "data": {
      "text/plain": [
       "'spamspamspam'"
      ]
     },
     "execution_count": 3,
     "metadata": {},
     "output_type": "execute_result"
    }
   ],
   "source": [
    "'spam' * 3"
   ]
  },
  {
   "cell_type": "raw",
   "id": "910a0531",
   "metadata": {},
   "source": [
    "8. Why is eggs a valid variable name while 100 is invalid?\n",
    "Answer - Because variable names cannot begin with a number."
   ]
  },
  {
   "cell_type": "raw",
   "id": "88d3d88f",
   "metadata": {},
   "source": [
    "9. What three functions can be used to get the integer, floating-point number, or string version of a value?\n",
    "\n",
    "Answer - int() , float() , str()"
   ]
  },
  {
   "cell_type": "raw",
   "id": "84b0a425",
   "metadata": {},
   "source": [
    "10. Why does this expression cause an error? How can you fix it?\n",
    "'I have eaten ' + 99 + ' burritos.'\n",
    "\n",
    "Answer - The expression causes an error because 99 is an integer, and only strings can be concatenated to other strings with the + operator"
   ]
  },
  {
   "cell_type": "code",
   "execution_count": 7,
   "id": "914eb339",
   "metadata": {},
   "outputs": [
    {
     "data": {
      "text/plain": [
       "'I have eaten 99 burritos.'"
      ]
     },
     "execution_count": 7,
     "metadata": {},
     "output_type": "execute_result"
    }
   ],
   "source": [
    "'I have eaten ' + str(99) + ' burritos.'"
   ]
  },
  {
   "cell_type": "code",
   "execution_count": null,
   "id": "351136f1",
   "metadata": {},
   "outputs": [],
   "source": []
  }
 ],
 "metadata": {
  "kernelspec": {
   "display_name": "Python 3 (ipykernel)",
   "language": "python",
   "name": "python3"
  },
  "language_info": {
   "codemirror_mode": {
    "name": "ipython",
    "version": 3
   },
   "file_extension": ".py",
   "mimetype": "text/x-python",
   "name": "python",
   "nbconvert_exporter": "python",
   "pygments_lexer": "ipython3",
   "version": "3.9.7"
  }
 },
 "nbformat": 4,
 "nbformat_minor": 5
}
